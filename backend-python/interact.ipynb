{
 "cells": [
  {
   "cell_type": "code",
   "execution_count": null,
   "id": "d70c6dca",
   "metadata": {},
   "outputs": [
    {
     "name": "stdout",
     "output_type": "stream",
     "text": [
      "Collecting dotenv\n",
      "  Downloading dotenv-0.9.9-py2.py3-none-any.whl.metadata (279 bytes)\n",
      "Collecting python-dotenv (from dotenv)\n",
      "  Downloading python_dotenv-1.1.1-py3-none-any.whl.metadata (24 kB)\n",
      "Downloading dotenv-0.9.9-py2.py3-none-any.whl (1.9 kB)\n",
      "Downloading python_dotenv-1.1.1-py3-none-any.whl (20 kB)\n",
      "Installing collected packages: python-dotenv, dotenv\n",
      "Successfully installed dotenv-0.9.9 python-dotenv-1.1.1\n"
     ]
    },
    {
     "name": "stderr",
     "output_type": "stream",
     "text": [
      "\n",
      "[notice] A new release of pip is available: 24.3.1 -> 25.1.1\n",
      "[notice] To update, run: python.exe -m pip install --upgrade pip\n"
     ]
    }
   ],
   "source": [
    "\n"
   ]
  },
  {
   "cell_type": "code",
   "execution_count": null,
   "id": "8151c988",
   "metadata": {},
   "outputs": [
    {
     "name": "stdout",
     "output_type": "stream",
     "text": [
      "✅ Connected\n",
      "📡 Sensor Sensor-A uploading...\n",
      "✅ Tx sent. Hash: 3c6a611655f603c793edfb90123d3b7305f8c4c4b7e780799dcb7e2fef74828c\n",
      "⛏️ Mined in block: 8867478\n",
      "✅ Transaction succeeded\n"
     ]
    }
   ],
   "source": [
    "#!pip install web3\n",
    "#!pip install dotenv\n",
    "from web3 import Web3\n",
    "import json\n",
    "import os\n",
    "from dotenv import load_dotenv\n",
    "\n",
    "load_dotenv()\n",
    "\n",
    "infura_url = os.getenv(\"INFURA_URL\")\n",
    "web3 = Web3(Web3.HTTPProvider(infura_url))\n",
    "\n",
    "print(\"✅ Connected\" if web3.is_connected() else \"❌ Not connected\")\n",
    "\n",
    "contract_address = Web3.to_checksum_address(os.getenv(\"CONTRACT_ADDRESS\"))\n",
    "wallet_address = Web3.to_checksum_address(os.getenv(\"WALLET_ADDRESS\"))\n",
    "recipient = Web3.to_checksum_address(os.getenv(\"RECIPIENT\"))\n",
    "private_key = os.getenv(\"PRIVATE_KEY\") \n",
    "\n",
    "with open(\"abi.json\") as f:\n",
    "    abi = json.load(f)\n",
    "\n",
    "contract = web3.eth.contract(address=contract_address, abi=abi)\n",
    "\n",
    "def simulate_sensor(sensor_id, recipient):\n",
    "    print(f\"📡 Sensor {sensor_id} uploading...\")\n",
    "\n",
    "    nonce = web3.eth.get_transaction_count(wallet_address)\n",
    "\n",
    "    txn = contract.functions.reward(recipient, 1).build_transaction({\n",
    "        'chainId': 11155111,\n",
    "        'gas': 200000,\n",
    "        'gasPrice': web3.to_wei('3', 'gwei'),\n",
    "        'nonce': nonce\n",
    "    })\n",
    "\n",
    "    signed_txn = web3.eth.account.sign_transaction(txn, private_key=private_key)\n",
    "\n",
    "    # ✅ FIX HERE: Use raw_transaction (all lowercase)\n",
    "    tx_hash = web3.eth.send_raw_transaction(signed_txn.raw_transaction)\n",
    "\n",
    "    print(\"✅ Tx sent. Hash:\", tx_hash.hex())\n",
    "    tx_receipt = web3.eth.wait_for_transaction_receipt(tx_hash, timeout=300)\n",
    "    print(\"⛏️ Mined in block:\", tx_receipt.blockNumber)\n",
    "\n",
    "    if tx_receipt.status == 1:\n",
    "        print(\"✅ Transaction succeeded\")\n",
    "    else:\n",
    "        print(\"❌ Transaction failed\")\n",
    "\n",
    "    \n",
    "\n",
    "simulate_sensor(\"Sensor-A\", \"0x7f76b4015e08b24313c56Cc5e34489001144BDE7\")\n"
   ]
  },
  {
   "cell_type": "code",
   "execution_count": 2,
   "id": "1223b855",
   "metadata": {},
   "outputs": [
    {
     "name": "stdout",
     "output_type": "stream",
     "text": [
      "📦 Mobile Account NRC balance: 999994\n",
      "📥 Account 1 NRC balance: 6\n"
     ]
    }
   ],
   "source": [
    "\n",
    "owner_balance = contract.functions.balanceOf(wallet_address).call()\n",
    "recipient_balance = contract.functions.balanceOf(recipient).call()\n",
    "print(\"📦 Mobile Account NRC balance:\", web3.from_wei(owner_balance, 'ether'))\n",
    "print(\"📥 Account 1 NRC balance:\", web3.from_wei(recipient_balance, 'ether'))"
   ]
  },
  {
   "cell_type": "code",
   "execution_count": 3,
   "id": "abea6b2b",
   "metadata": {},
   "outputs": [
    {
     "data": {
      "text/plain": [
       "18"
      ]
     },
     "execution_count": 3,
     "metadata": {},
     "output_type": "execute_result"
    }
   ],
   "source": [
    "contract.functions.decimals().call()\n"
   ]
  },
  {
   "cell_type": "code",
   "execution_count": null,
   "id": "f7e453e7",
   "metadata": {},
   "outputs": [],
   "source": []
  }
 ],
 "metadata": {
  "kernelspec": {
   "display_name": "Python (venv)",
   "language": "python",
   "name": "venv"
  },
  "language_info": {
   "codemirror_mode": {
    "name": "ipython",
    "version": 3
   },
   "file_extension": ".py",
   "mimetype": "text/x-python",
   "name": "python",
   "nbconvert_exporter": "python",
   "pygments_lexer": "ipython3",
   "version": "3.13.0"
  }
 },
 "nbformat": 4,
 "nbformat_minor": 5
}
